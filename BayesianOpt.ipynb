{
 "cells": [
  {
   "cell_type": "markdown",
   "metadata": {},
   "source": [
    "# Bayesian Optimization in JT VAE for Molecule Generation\n",
    "\n",
    "### 1) Sparse Gaussian Process Regression\n",
    "\n",
    "First generate latent representations using `gen_latent.py` <br>\n",
    "Use `generate_train_data()` to generate training and testing data <br>\n",
    "Create a `Sparse_GP` instance and call `train()` to perform a SGP regressian on the training data"
   ]
  },
  {
   "cell_type": "code",
   "execution_count": 1,
   "metadata": {},
   "outputs": [],
   "source": [
    "from util import *\n",
    "import numpy as np"
   ]
  },
  {
   "cell_type": "code",
   "execution_count": 2,
   "metadata": {},
   "outputs": [
    {
     "name": "stdout",
     "output_type": "stream",
     "text": [
      "Training data shape X:torch.Size([90000, 56]), y:torch.Size([90000])\n",
      "Testing data shape X:torch.Size([10000, 56]), y:torch.Size([10000])\n"
     ]
    }
   ],
   "source": [
    "# Define your own training data or\n",
    "# We load the data (y is minued!)\n",
    "\n",
    "training_num = 100000\n",
    "feature_dir = './bo/latent_features2.txt'\n",
    "target_dir = './bo/targets2.txt'\n",
    "\n",
    "X = np.loadtxt(feature_dir)[:training_num]\n",
    "y = -np.loadtxt(target_dir)[:training_num]\n",
    "y = y.reshape((-1, 1))\n",
    "device = \"cuda\"\n",
    "\n",
    "X_train, y_train, X_test, y_test = generate_train_data(X, y, device)"
   ]
  },
  {
   "cell_type": "code",
   "execution_count": 3,
   "metadata": {},
   "outputs": [
    {
     "name": "stdout",
     "output_type": "stream",
     "text": [
      "Iter 20/200 - Loss: 2.236\n",
      "Iter 40/200 - Loss: 2.158\n",
      "Iter 60/200 - Loss: 1.952\n",
      "Iter 80/200 - Loss: 1.767\n",
      "Iter 100/200 - Loss: 1.644\n",
      "Iter 120/200 - Loss: 1.558\n",
      "Iter 140/200 - Loss: 1.477\n",
      "Iter 160/200 - Loss: 1.479\n",
      "Iter 180/200 - Loss: 1.522\n",
      "Iter 200/200 - Loss: 1.511\n"
     ]
    }
   ],
   "source": [
    "#Load sparse Gaussian process regression model and fit the training data\n",
    "\n",
    "from SGPmodel import *\n",
    "SGP = Sparse_GP(X_train, y_train, device, 1000)\n",
    "with gpytorch.settings.use_toeplitz(True):\n",
    "    SGP.train(200)"
   ]
  },
  {
   "cell_type": "code",
   "execution_count": 4,
   "metadata": {},
   "outputs": [
    {
     "name": "stdout",
     "output_type": "stream",
     "text": [
      "Test MLL: 1.6187447309494019\n",
      "Test RMSE:  1.2427152\n"
     ]
    }
   ],
   "source": [
    "# Test MLL and RMSE on test data\n",
    "\n",
    "SGP.model.eval()\n",
    "SGP.likelihood.eval()\n",
    "with gpytorch.settings.max_preconditioner_size(10), torch.no_grad():\n",
    "    with gpytorch.settings.use_toeplitz(False), gpytorch.settings.max_root_decomposition_size(30), gpytorch.settings.fast_pred_var():\n",
    "        preds = SGP.model(X_test)\n",
    "MLL = -SGP.mll(preds, y_test)\n",
    "RMSE = np.sqrt(np.mean((preds.mean.cpu().numpy() - y_test.cpu().numpy())**2))\n",
    "print(\"Test MLL:\", MLL.item())\n",
    "print(\"Test RMSE: \", RMSE)"
   ]
  },
  {
   "cell_type": "markdown",
   "metadata": {},
   "source": [
    "### 2) Bayesian Optimization\n",
    "\n",
    "Specify your `vocab_path` and `model_path` <br>\n",
    "Use `make_vae_model()` to load junction tree VAE model and use `BayesianOpt()` to perform BO"
   ]
  },
  {
   "cell_type": "code",
   "execution_count": 5,
   "metadata": {},
   "outputs": [],
   "source": [
    "# Load VAE model\n",
    "vocab_path = \"/home/ubuntu/ASAIL/jtnn_bo/jtnn/vocab.txt\"\n",
    "model_path = \"model.iter-0-3000\"\n",
    "JT_model = make_vae_model(vocab_path, model_path, device=\"cuda\")"
   ]
  },
  {
   "cell_type": "code",
   "execution_count": 9,
   "metadata": {
    "scrolled": false
   },
   "outputs": [
    {
     "name": "stderr",
     "output_type": "stream",
     "text": [
      "/home/ubuntu/anaconda3/envs/pytorch_p36/lib/python3.6/site-packages/gpytorch/utils/linear_cg.py:295: UserWarning: CG terminated in 1500 iterations with average residual norm 11.288341522216797 which is larger than the tolerance of 0.01 specified by gpytorch.settings.cg_tolerance. If performance is affected, consider raising the maximum number of CG iterations by running code in a gpytorch.settings.max_cg_iterations(value) context.\n",
      "  \" a gpytorch.settings.max_cg_iterations(value) context.\".format(k + 1, residual_norm.mean(), tolerance)\n",
      "/home/ubuntu/anaconda3/envs/pytorch_p36/lib/python3.6/site-packages/dgl/base.py:18: UserWarning: Initializer is not set. Use zero initializer instead. To suppress this warning, use `set_initializer` to explicitly specify which initializer to use.\n",
      "  warnings.warn(msg)\n"
     ]
    },
    {
     "name": "stdout",
     "output_type": "stream",
     "text": [
      "new x score: 2.8544740444049603\n",
      "train with X.shape - torch.Size([90001, 56]), y.shape - torch.Size([90001])\n",
      "Iter 10/50 - Loss: 0.879  noise: 0.002\n",
      "Iter 20/50 - Loss: 0.850  noise: 0.002\n",
      "Iter 30/50 - Loss: 0.851  noise: 0.002\n",
      "Iter 40/50 - Loss: 0.838  noise: 0.002\n",
      "Iter 50/50 - Loss: 0.830  noise: 0.002\n",
      "1  new molecules are found. Iteration- 0\n"
     ]
    },
    {
     "name": "stderr",
     "output_type": "stream",
     "text": [
      "/home/ubuntu/anaconda3/envs/pytorch_p36/lib/python3.6/site-packages/gpytorch/utils/linear_cg.py:295: UserWarning: CG terminated in 1500 iterations with average residual norm 15.046937942504883 which is larger than the tolerance of 0.01 specified by gpytorch.settings.cg_tolerance. If performance is affected, consider raising the maximum number of CG iterations by running code in a gpytorch.settings.max_cg_iterations(value) context.\n",
      "  \" a gpytorch.settings.max_cg_iterations(value) context.\".format(k + 1, residual_norm.mean(), tolerance)\n"
     ]
    },
    {
     "name": "stdout",
     "output_type": "stream",
     "text": [
      "new x score: -13.294374480589708\n",
      "train with X.shape - torch.Size([90002, 56]), y.shape - torch.Size([90002])\n",
      "Iter 10/50 - Loss: 0.827  noise: 0.002\n",
      "Iter 20/50 - Loss: 0.822  noise: 0.001\n",
      "Iter 30/50 - Loss: 0.813  noise: 0.001\n",
      "Iter 40/50 - Loss: 0.803  noise: 0.001\n",
      "Iter 50/50 - Loss: 0.796  noise: 0.001\n",
      "1  new molecules are found. Iteration- 1\n"
     ]
    },
    {
     "name": "stderr",
     "output_type": "stream",
     "text": [
      "/home/ubuntu/anaconda3/envs/pytorch_p36/lib/python3.6/site-packages/gpytorch/utils/linear_cg.py:295: UserWarning: CG terminated in 1500 iterations with average residual norm 5746.97119140625 which is larger than the tolerance of 0.01 specified by gpytorch.settings.cg_tolerance. If performance is affected, consider raising the maximum number of CG iterations by running code in a gpytorch.settings.max_cg_iterations(value) context.\n",
      "  \" a gpytorch.settings.max_cg_iterations(value) context.\".format(k + 1, residual_norm.mean(), tolerance)\n"
     ]
    },
    {
     "name": "stdout",
     "output_type": "stream",
     "text": [
      "new x score: 1.4963669441699667\n",
      "train with X.shape - torch.Size([90003, 56]), y.shape - torch.Size([90003])\n",
      "Iter 10/50 - Loss: 0.796  noise: 0.001\n",
      "Iter 20/50 - Loss: 0.789  noise: 0.001\n",
      "Iter 30/50 - Loss: 0.783  noise: 0.001\n",
      "Iter 40/50 - Loss: 0.778  noise: 0.001\n",
      "Iter 50/50 - Loss: 0.770  noise: 0.001\n",
      "1  new molecules are found. Iteration- 2\n"
     ]
    },
    {
     "name": "stderr",
     "output_type": "stream",
     "text": [
      "/home/ubuntu/anaconda3/envs/pytorch_p36/lib/python3.6/site-packages/gpytorch/utils/linear_cg.py:295: UserWarning: CG terminated in 1500 iterations with average residual norm 28.97286605834961 which is larger than the tolerance of 0.01 specified by gpytorch.settings.cg_tolerance. If performance is affected, consider raising the maximum number of CG iterations by running code in a gpytorch.settings.max_cg_iterations(value) context.\n",
      "  \" a gpytorch.settings.max_cg_iterations(value) context.\".format(k + 1, residual_norm.mean(), tolerance)\n"
     ]
    },
    {
     "name": "stdout",
     "output_type": "stream",
     "text": [
      "new x score: 2.4535960020142955\n",
      "train with X.shape - torch.Size([90004, 56]), y.shape - torch.Size([90004])\n",
      "Iter 10/50 - Loss: 0.763  noise: 0.001\n",
      "Iter 20/50 - Loss: 0.765  noise: 0.001\n",
      "Iter 30/50 - Loss: 0.746  noise: 0.001\n",
      "Iter 40/50 - Loss: 0.744  noise: 0.001\n",
      "Iter 50/50 - Loss: 0.738  noise: 0.000\n",
      "1  new molecules are found. Iteration- 3\n"
     ]
    },
    {
     "name": "stderr",
     "output_type": "stream",
     "text": [
      "/home/ubuntu/anaconda3/envs/pytorch_p36/lib/python3.6/site-packages/gpytorch/utils/linear_cg.py:295: UserWarning: CG terminated in 1500 iterations with average residual norm 8426.6044921875 which is larger than the tolerance of 0.01 specified by gpytorch.settings.cg_tolerance. If performance is affected, consider raising the maximum number of CG iterations by running code in a gpytorch.settings.max_cg_iterations(value) context.\n",
      "  \" a gpytorch.settings.max_cg_iterations(value) context.\".format(k + 1, residual_norm.mean(), tolerance)\n"
     ]
    },
    {
     "name": "stdout",
     "output_type": "stream",
     "text": [
      "new x score: 1.4963669441699667\n",
      "train with X.shape - torch.Size([90005, 56]), y.shape - torch.Size([90005])\n",
      "Iter 10/50 - Loss: 0.743  noise: 0.000\n",
      "Iter 20/50 - Loss: 0.729  noise: 0.000\n",
      "Iter 30/50 - Loss: 0.724  noise: 0.000\n",
      "Iter 40/50 - Loss: 0.718  noise: 0.000\n",
      "Iter 50/50 - Loss: 0.714  noise: 0.000\n",
      "1  new molecules are found. Iteration- 4\n"
     ]
    },
    {
     "name": "stderr",
     "output_type": "stream",
     "text": [
      "/home/ubuntu/anaconda3/envs/pytorch_p36/lib/python3.6/site-packages/gpytorch/utils/linear_cg.py:295: UserWarning: CG terminated in 1500 iterations with average residual norm 5172.4541015625 which is larger than the tolerance of 0.01 specified by gpytorch.settings.cg_tolerance. If performance is affected, consider raising the maximum number of CG iterations by running code in a gpytorch.settings.max_cg_iterations(value) context.\n",
      "  \" a gpytorch.settings.max_cg_iterations(value) context.\".format(k + 1, residual_norm.mean(), tolerance)\n"
     ]
    },
    {
     "name": "stdout",
     "output_type": "stream",
     "text": [
      "new x score: 1.4963669441699667\n",
      "train with X.shape - torch.Size([90006, 56]), y.shape - torch.Size([90006])\n",
      "Iter 10/50 - Loss: 0.684  noise: 0.000\n",
      "Iter 20/50 - Loss: 0.698  noise: 0.000\n",
      "Iter 30/50 - Loss: 0.690  noise: 0.000\n",
      "Iter 40/50 - Loss: 0.685  noise: 0.000\n",
      "Iter 50/50 - Loss: 0.677  noise: 0.000\n",
      "1  new molecules are found. Iteration- 5\n"
     ]
    },
    {
     "name": "stderr",
     "output_type": "stream",
     "text": [
      "/home/ubuntu/anaconda3/envs/pytorch_p36/lib/python3.6/site-packages/gpytorch/utils/linear_cg.py:295: UserWarning: CG terminated in 1500 iterations with average residual norm 8596.189453125 which is larger than the tolerance of 0.01 specified by gpytorch.settings.cg_tolerance. If performance is affected, consider raising the maximum number of CG iterations by running code in a gpytorch.settings.max_cg_iterations(value) context.\n",
      "  \" a gpytorch.settings.max_cg_iterations(value) context.\".format(k + 1, residual_norm.mean(), tolerance)\n"
     ]
    },
    {
     "name": "stdout",
     "output_type": "stream",
     "text": [
      "new x score: 1.4963669441699667\n",
      "train with X.shape - torch.Size([90007, 56]), y.shape - torch.Size([90007])\n",
      "Iter 10/50 - Loss: 0.678  noise: 0.000\n",
      "Iter 20/50 - Loss: 0.671  noise: 0.000\n",
      "Iter 30/50 - Loss: 0.666  noise: 0.000\n",
      "Iter 40/50 - Loss: 0.655  noise: 0.000\n",
      "Iter 50/50 - Loss: 0.651  noise: 0.000\n",
      "1  new molecules are found. Iteration- 6\n"
     ]
    },
    {
     "name": "stderr",
     "output_type": "stream",
     "text": [
      "/home/ubuntu/anaconda3/envs/pytorch_p36/lib/python3.6/site-packages/gpytorch/utils/linear_cg.py:295: UserWarning: CG terminated in 1500 iterations with average residual norm 3634.63037109375 which is larger than the tolerance of 0.01 specified by gpytorch.settings.cg_tolerance. If performance is affected, consider raising the maximum number of CG iterations by running code in a gpytorch.settings.max_cg_iterations(value) context.\n",
      "  \" a gpytorch.settings.max_cg_iterations(value) context.\".format(k + 1, residual_norm.mean(), tolerance)\n"
     ]
    },
    {
     "name": "stdout",
     "output_type": "stream",
     "text": [
      "new x score: 9.134875447794862\n",
      "train with X.shape - torch.Size([90008, 56]), y.shape - torch.Size([90008])\n",
      "Iter 10/50 - Loss: 0.650  noise: 0.000\n",
      "Iter 20/50 - Loss: 0.647  noise: 0.000\n",
      "Iter 30/50 - Loss: 0.643  noise: 0.000\n",
      "Iter 40/50 - Loss: 0.630  noise: 0.000\n",
      "Iter 50/50 - Loss: 0.628  noise: 0.000\n",
      "1  new molecules are found. Iteration- 7\n"
     ]
    },
    {
     "name": "stderr",
     "output_type": "stream",
     "text": [
      "/home/ubuntu/anaconda3/envs/pytorch_p36/lib/python3.6/site-packages/gpytorch/utils/linear_cg.py:295: UserWarning: CG terminated in 1500 iterations with average residual norm 1061.4200439453125 which is larger than the tolerance of 0.01 specified by gpytorch.settings.cg_tolerance. If performance is affected, consider raising the maximum number of CG iterations by running code in a gpytorch.settings.max_cg_iterations(value) context.\n",
      "  \" a gpytorch.settings.max_cg_iterations(value) context.\".format(k + 1, residual_norm.mean(), tolerance)\n"
     ]
    },
    {
     "name": "stdout",
     "output_type": "stream",
     "text": [
      "new x score: 3.182474894497798\n",
      "train with X.shape - torch.Size([90009, 56]), y.shape - torch.Size([90009])\n",
      "Iter 10/50 - Loss: 0.620  noise: 0.000\n",
      "Iter 20/50 - Loss: 0.610  noise: 0.000\n",
      "Iter 30/50 - Loss: 0.607  noise: 0.000\n",
      "Iter 40/50 - Loss: 0.606  noise: 0.000\n",
      "Iter 50/50 - Loss: 0.621  noise: 0.000\n",
      "1  new molecules are found. Iteration- 8\n"
     ]
    },
    {
     "name": "stderr",
     "output_type": "stream",
     "text": [
      "/home/ubuntu/anaconda3/envs/pytorch_p36/lib/python3.6/site-packages/gpytorch/utils/linear_cg.py:295: UserWarning: CG terminated in 1500 iterations with average residual norm 13525.244140625 which is larger than the tolerance of 0.01 specified by gpytorch.settings.cg_tolerance. If performance is affected, consider raising the maximum number of CG iterations by running code in a gpytorch.settings.max_cg_iterations(value) context.\n",
      "  \" a gpytorch.settings.max_cg_iterations(value) context.\".format(k + 1, residual_norm.mean(), tolerance)\n"
     ]
    },
    {
     "name": "stdout",
     "output_type": "stream",
     "text": [
      "new x score: 1.4963669441699667\n",
      "1  new molecules are found. Iteration- 9\n"
     ]
    }
   ],
   "source": [
    "# Start Bayesian optimization for 10 iterations\n",
    "SGP.model.set_train_data(X_train, y_train, strict = False)\n",
    "with gpytorch.settings.cg_tolerance(10), gpytorch.settings.max_cg_iterations(1500):\n",
    "    valid_s, mol_score = BayesianOpt(JT_model, SGP.model, SGP.likelihood, max_iteration=10)"
   ]
  },
  {
   "cell_type": "markdown",
   "metadata": {},
   "source": [
    "### 3) Visualization\n",
    "\n",
    "use `draw_mol()` to visualize molecule structures"
   ]
  },
  {
   "cell_type": "code",
   "execution_count": 11,
   "metadata": {},
   "outputs": [
    {
     "data": {
      "image/png": "[encoded data removed]",
      "text/plain": [
       "<PIL.PngImagePlugin.PngImageFile image mode=RGB size=900x600 at 0x7FBC318B4828>"
      ]
     },
     "execution_count": 11,
     "metadata": {},
     "output_type": "execute_result"
    }
   ],
   "source": [
    "# filter unsatisfactoy molecules\n",
    "good_s = []\n",
    "for i, s in enumerate(valid_s):\n",
    "    if \"CCCCCCCCC\" not in s and \"C(C)(C)C(C)(C)C(C)(C)\" not in s:\n",
    "        good_s.append(s)\n",
    "img = draw_mol(good_s)\n",
    "img"
   ]
  },
  {
   "cell_type": "code",
   "execution_count": null,
   "metadata": {},
   "outputs": [],
   "source": []
  }
 ],
 "metadata": {
  "kernelspec": {
   "display_name": "Environment (conda_pytorch_p36)",
   "language": "python",
   "name": "conda_pytorch_p36"
  },
  "language_info": {
   "codemirror_mode": {
    "name": "ipython",
    "version": 3
   },
   "file_extension": ".py",
   "mimetype": "text/x-python",
   "name": "python",
   "nbconvert_exporter": "python",
   "pygments_lexer": "ipython3",
   "version": "3.6.5"
  }
 },
 "nbformat": 4,
 "nbformat_minor": 2
}
