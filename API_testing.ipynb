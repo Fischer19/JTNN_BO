{
 "cells": [
  {
   "cell_type": "code",
   "execution_count": 1,
   "metadata": {},
   "outputs": [],
   "source": [
    "from util import *\n",
    "from SGPmodel import *\n",
    "from api import *"
   ]
  },
  {
   "cell_type": "code",
   "execution_count": 45,
   "metadata": {},
   "outputs": [],
   "source": [
    "class LatentSmileConverter(object):\n",
    "    def __init__(self, encoder, decoder):\n",
    "        self.encoder = encoder\n",
    "        self.decoder = decoder\n",
    "\n",
    "    def toSmile(self, *args):\n",
    "        return self.decoder(*args)\n",
    "    \n",
    "    def toLatent(self, smiles):\n",
    "        return self.encoder(smiles)\n",
    "\n",
    "\n",
    "class ScoreCalculator(object):\n",
    "    def __init__(self, scorecalc):\n",
    "        self.scorecalc = scorecalc\n",
    "\n",
    "    def __call__(self, smiles):\n",
    "        score = []\n",
    "        for s in smiles:\n",
    "            score.append(self.scorecalc(s))\n",
    "        return score\n",
    "    \n",
    "\n",
    "# Define BO function using general API:\n",
    "# LSC for LatentSmileConverter object\n",
    "def BayesianOpt_ei(LSC, SC, model, likelihood, max_iteration = 50, device = \"cuda\"):\n",
    "    lb = torch.min(model.train_inputs[0], dim = 0)[0]\n",
    "    ub = torch.max(model.train_inputs[0], dim = 0)[0]\n",
    "    valid_s = []\n",
    "    mol_score = []\n",
    "    for iteration in range(max_iteration):\n",
    "        if iteration == 0:\n",
    "            flag = False\n",
    "        else:\n",
    "            flag = True\n",
    "        xmin = next_x_ei(model, likelihood, model.train_inputs[0], lb,ub,flag,5,1, device)\n",
    "        valid_smiles=[]\n",
    "        scores=[]\n",
    "        real_scores = []\n",
    "        for x_new in xmin:\n",
    "            # TODO\n",
    "            tree_vec, mol_vec = x_new.chunk(2,1)\n",
    "            s=LSC.toSmile(tree_vec, mol_vec)\n",
    "            if s is not None:\n",
    "                valid_smiles.append(s)\n",
    "                score = SC(s)\n",
    "                y_new = score\n",
    "                #print(\"new x score:\", score)\n",
    "                scores.append(y_new)\n",
    "\n",
    "                X = torch.cat((model.train_inputs[0], x_new.to(\"cuda\")),0) # incorporate new evaluation\n",
    "                y = torch.cat((model.train_targets, torch.tensor([y_new]).float().to(\"cuda\")),0)\n",
    "\n",
    "        if iteration < max_iteration-1:\n",
    "            update_posterior(model, likelihood, X, y)\n",
    "        print(len(scores),\" new molecules are found. Iteration-\",iteration)\n",
    "        valid_s += valid_smiles\n",
    "        mol_score += scores\n",
    "        #save_object(valid_smiles, save_dir + \"/valid_smiles{}.txt\".format(iteration))\n",
    "        #save_object(scores, save_dir + \"/scores{}.txt\".format(iteration))\n",
    "    good_score = []\n",
    "    good_s = []\n",
    "    for i, s in enumerate(valid_s):\n",
    "        if \"CCCCCCCCC\" not in s and \"C(C)(C)C(C)(C)C(C)(C)\" not in s:\n",
    "            good_s.append(s)\n",
    "            good_score.append(mol_score[i])\n",
    "    return good_s, good_score\n",
    "\n",
    "def BayesianOpt_ei_one_step(LSC, SC, model, likelihood, num_mol =1, max_iteration = 50, device = \"cuda\"):\n",
    "    lb = torch.min(model.train_inputs[0], dim = 0)[0]\n",
    "    ub = torch.max(model.train_inputs[0], dim = 0)[0]\n",
    "    valid_s = []\n",
    "    mol_score = []\n",
    "    xmin = []\n",
    "    for i in range(num_mol):\n",
    "        flag = i\n",
    "        xmin += next_x_ei(model, likelihood, model.train_inputs[0], lb,ub,flag,5,1, device)\n",
    "    valid_smiles=[]\n",
    "    for x_new in xmin:\n",
    "        # TODO\n",
    "        tree_vec, mol_vec = x_new.chunk(2,1)\n",
    "        s=LSC.toSmile(tree_vec, mol_vec)\n",
    "        if s is not None:\n",
    "            valid_smiles.append(s)\n",
    "\n",
    "    return valid_smiles, xmin\n",
    "\n",
    "class SGPOptimizer(object):\n",
    "    def __init__(self, X, y, device = \"cuda\"):\n",
    "        self.X_train, self.y_train, self.X_test, self.y_test = generate_train_data(X, y, device)\n",
    "        # TODO: how to determine number of inducing points\n",
    "        self.SGP = Sparse_GP(self.X_train, self.y_train, device, 1000)\n",
    "        self.device = device\n",
    "        \n",
    "    def train_SGP(self, train_iterations = 200):\n",
    "        with gpytorch.settings.use_toeplitz(True):\n",
    "            self.SGP.train(train_iterations)\n",
    "            \n",
    "    def optimize_smiles(self, smiles_w_scores, converter):\n",
    "        pass\n",
    "    \n",
    "    def optimize_auto(self, X_y, LSC, SC):\n",
    "        if X_y is not None:\n",
    "            X, y = X_y\n",
    "            X = torch.cat((self.SGP.model.train_inputs[0], X.to(self.device)),0) # incorporate new evaluation\n",
    "            y = torch.cat((self.SGP.model.train_targets, y.float().to(self.device)),0)\n",
    "        else:\n",
    "            X, y = self.SGP.model.train_inputs[0], self.SGP.model.train_targets\n",
    "        result = []\n",
    "        self.SGP.model.set_train_data(X, y, strict = False)\n",
    "        with gpytorch.settings.cg_tolerance(10), gpytorch.settings.max_cg_iterations(1500):\n",
    "            valid_s, mol_score = BayesianOpt_ei(LSC, SC, self.SGP.model, self.SGP.likelihood, max_iteration=10)\n",
    "            result.append((valid_s, mol_score))\n",
    "        return result\n",
    "    \n",
    "    def optimize_one_step(self, X_y, LSC, num_mol = 1):\n",
    "        if X_y is not None:\n",
    "            X, y = X_y\n",
    "            X = torch.cat((self.SGP.model.train_inputs[0], torch.cat(X).to(self.device)),0) # incorporate new evaluation\n",
    "            y = torch.cat((self.SGP.model.train_targets, torch.Tensor(y).float().to(self.device)),0)\n",
    "            update_posterior(self.SGP.model, self.SGP.likelihood, X, y)\n",
    "        else:\n",
    "            X, y = self.SGP.model.train_inputs[0], self.SGP.model.train_targets\n",
    "        self.SGP.model.set_train_data(X, y, strict = False)\n",
    "        with gpytorch.settings.cg_tolerance(10), gpytorch.settings.max_cg_iterations(1500):\n",
    "            result, latent = BayesianOpt_ei_one_step(LSC, SC, self.SGP.model, self.SGP.likelihood, 10, max_iteration=1)\n",
    "        return result, latent\n",
    "\n",
    "    \n",
    "    def save(self, trained_data=True):\n",
    "        torch.save(self.SGP.model.state_dict(), 'SGPoptimizer.pth')\n",
    "    \n",
    "    def load(self, trained_data=True):\n",
    "        state_dict = torch.load('SGPoptimizer.pth')\n",
    "        self.SGP.model.load_state_dict(state_dict)\n",
    "    "
   ]
  },
  {
   "cell_type": "code",
   "execution_count": 23,
   "metadata": {},
   "outputs": [],
   "source": [
    "vocab_path = \"/home/ubuntu/ASAIL/jtnn_bo/jtnn/JTNN_BO/jtnn/vocab.txt\"\n",
    "model_path = \"/home/ubuntu/ASAIL/jtnn_bo/jtnn/JTNN_BO/jtnn/model.iter-0-3000\"\n",
    "\n",
    "JT_model = make_vae_model(vocab_path, model_path, device=\"cuda\")\n",
    "SC = ScoreCalculator(compute_mol_score)\n",
    "LSC = LatentSmileConverter(JT_model.encode, JT_model.decode)\n"
   ]
  },
  {
   "cell_type": "code",
   "execution_count": 4,
   "metadata": {},
   "outputs": [
    {
     "name": "stdout",
     "output_type": "stream",
     "text": [
      "Training data shape X:torch.Size([90000, 56]), y:torch.Size([90000])\n",
      "Testing data shape X:torch.Size([10000, 56]), y:torch.Size([10000])\n"
     ]
    }
   ],
   "source": [
    "device = \"cuda\"\n",
    "feature_dir = '/home/ubuntu/ASAIL/jtnn_bo/jtnn/bo/latent_features2.txt'\n",
    "target_dir = '/home/ubuntu/ASAIL/jtnn_bo/jtnn/bo/targets2.txt'\n",
    "training_num = 100000\n",
    "\n",
    "X = np.loadtxt(feature_dir)[:training_num]\n",
    "y = -np.loadtxt(target_dir)[:training_num]\n",
    "y = y.reshape((-1, 1))\n",
    "\n",
    "optimizer = SGPOptimizer(X, y)"
   ]
  },
  {
   "cell_type": "code",
   "execution_count": null,
   "metadata": {},
   "outputs": [],
   "source": [
    "optimizer.train_SGP(200)\n",
    "optimizer.save()"
   ]
  },
  {
   "cell_type": "code",
   "execution_count": 34,
   "metadata": {},
   "outputs": [
    {
     "name": "stdout",
     "output_type": "stream",
     "text": [
      "Training data shape X:torch.Size([90000, 56]), y:torch.Size([90000])\n",
      "Testing data shape X:torch.Size([10000, 56]), y:torch.Size([10000])\n",
      "previous best: tensor([-4.1780], device='cuda:0')\n",
      "min_score: -1.2505100965499878\n",
      "previous best: tensor([-4.1780], device='cuda:0')\n",
      "min_score: 0.04235526919364929\n",
      "previous best: tensor([-4.1780], device='cuda:0')\n",
      "min_score: 6.035830974578857\n",
      "previous best: tensor([-4.1780], device='cuda:0')\n",
      "min_score: -1.2213503122329712\n",
      "previous best: tensor([-4.1780], device='cuda:0')\n",
      "min_score: 6.035830974578857\n",
      "previous best: tensor([-4.1780], device='cuda:0')\n",
      "min_score: -1.1873714923858643\n",
      "previous best: tensor([-4.1780], device='cuda:0')\n",
      "min_score: 6.035830974578857\n",
      "previous best: tensor([-4.1780], device='cuda:0')\n",
      "min_score: 6.035830974578857\n",
      "previous best: tensor([-4.1780], device='cuda:0')\n",
      "min_score: 6.035830974578857\n",
      "previous best: tensor([-4.1780], device='cuda:0')\n",
      "min_score: 5.602463245391846\n"
     ]
    }
   ],
   "source": [
    "optimizer = SGPOptimizer(X, y)\n",
    "optimizer.load()\n",
    "result, latent = optimizer.optimize_one_step(None, LSC)"
   ]
  },
  {
   "cell_type": "code",
   "execution_count": 50,
   "metadata": {},
   "outputs": [
    {
     "name": "stdout",
     "output_type": "stream",
     "text": [
      "['CCC(CC)NC(=O)[C@@H](C)NC(=O)c1cccc(C(F)(F)F)c1', 'CCCCCCCCCCCCCCCCCCC', 'Cc1cc(C(=O)NCCCCCC=O)ccc1NC(=O)c1ccc(-c2ccc(C(C)C)cc2)cc1', 'CCCCCCCNC(=O)CCC[C@@H](C)C(C)C', 'C[C@@H](C(=O)Nc1cccc(C(=O)Nc2ccccc2C(F)(F)F)c1)c1ccccc1F', 'CCCCCCCCCCC(=O)NCCCCOCc1ccccc1', 'CCCC[C@@H](CC(=O)NCc1cccc(C(F)(F)F)c1)C(=O)[O-]', 'CCCCCNC(=O)C[C@H](CCCCC)C(=O)NCCC', 'CC(C)[C@@H](C(=O)Nc1ccccc1C(F)(F)F)N1CCOCC1', 'CC[C@@H](Cc1ccccc1C(F)(F)F)NC(=O)c1cccc(NC(=O)c2ccccc2C)c1']\n",
      "Start drawing 10 mols:\n"
     ]
    },
    {
     "data": {
      "image/png": "[encoded data removed]",
      "text/plain": [
       "<PIL.PngImagePlugin.PngImageFile image mode=RGB size=900x800 at 0x7FE55BD3D0B8>"
      ]
     },
     "execution_count": 50,
     "metadata": {},
     "output_type": "execute_result"
    }
   ],
   "source": [
    "print(result)\n",
    "img = draw_mol(result)\n",
    "img"
   ]
  },
  {
   "cell_type": "code",
   "execution_count": 51,
   "metadata": {},
   "outputs": [
    {
     "name": "stdout",
     "output_type": "stream",
     "text": [
      "[1.3230777713528665, 6.174741840546357, 4.096888401956597, 2.397405540251337, 3.154091260398101, 3.8364451155048283, 0.20473772676558685, 1.5114494864558703, 1.0236119991995283, 3.2104058368525097]\n"
     ]
    }
   ],
   "source": [
    "score = SC(result)\n",
    "print(score)"
   ]
  },
  {
   "cell_type": "code",
   "execution_count": 49,
   "metadata": {},
   "outputs": [
    {
     "name": "stdout",
     "output_type": "stream",
     "text": [
      "Training data shape X:torch.Size([90000, 56]), y:torch.Size([90000])\n",
      "Testing data shape X:torch.Size([10000, 56]), y:torch.Size([10000])\n",
      "train with X.shape - torch.Size([90010, 56]), y.shape - torch.Size([90010])\n",
      "Iter 10/50 - Loss: 1.524  noise: 0.196\n",
      "Iter 20/50 - Loss: 1.619  noise: 0.204\n",
      "Iter 30/50 - Loss: 1.588  noise: 0.215\n",
      "Iter 40/50 - Loss: 1.609  noise: 0.218\n",
      "Iter 50/50 - Loss: 1.597  noise: 0.215\n",
      "previous best: tensor([-3.9723], device='cuda:0')\n",
      "min_score: -1.270574927330017\n",
      "previous best: tensor([-3.9723], device='cuda:0')\n",
      "min_score: 6.170449256896973\n",
      "previous best: tensor([-3.9723], device='cuda:0')\n",
      "min_score: 6.170449256896973\n",
      "previous best: tensor([-3.9723], device='cuda:0')\n",
      "min_score: 6.170449256896973\n",
      "previous best: tensor([-3.9723], device='cuda:0')\n",
      "min_score: -1.4192578792572021\n",
      "previous best: tensor([-3.9723], device='cuda:0')\n",
      "min_score: 6.170449256896973\n",
      "previous best: tensor([-3.9723], device='cuda:0')\n",
      "min_score: -1.4076409339904785\n",
      "previous best: tensor([-3.9723], device='cuda:0')\n",
      "min_score: 6.170449256896973\n",
      "previous best: tensor([-3.9723], device='cuda:0')\n",
      "min_score: 6.169942855834961\n",
      "previous best: tensor([-3.9723], device='cuda:0')\n",
      "min_score: -1.424185872077942\n"
     ]
    }
   ],
   "source": [
    "optimizer = SGPOptimizer(X, y)\n",
    "optimizer.load()\n",
    "result, latent = optimizer.optimize_one_step([latent, score], LSC)"
   ]
  },
  {
   "cell_type": "code",
   "execution_count": null,
   "metadata": {},
   "outputs": [],
   "source": [
    "smiles = [\"cCCC\"]\n",
    "X_train = np.load(...)\n",
    "y_train = np.load(...)\n",
    "optimizer = SGPOptimizer(X_train, y_train)\n",
    "optimizer.load(...)\n",
    "new_smiles = optimizer.optimize_smiles([smiles, scores], LatentSmileConverter(JT_model))\n",
    "# Or\n",
    "\n",
    "X = np.load(...)\n",
    "y = np.load(...)\n",
    "new_smiles = optimizer.optimize_vec([X, y], LatentSmileConverter(model))\n",
    "optimizer.save(...)"
   ]
  }
 ],
 "metadata": {
  "kernelspec": {
   "display_name": "Environment (conda_pytorch_p36)",
   "language": "python",
   "name": "conda_pytorch_p36"
  },
  "language_info": {
   "codemirror_mode": {
    "name": "ipython",
    "version": 3
   },
   "file_extension": ".py",
   "mimetype": "text/x-python",
   "name": "python",
   "nbconvert_exporter": "python",
   "pygments_lexer": "ipython3",
   "version": "3.7.3"
  }
 },
 "nbformat": 4,
 "nbformat_minor": 2
}
